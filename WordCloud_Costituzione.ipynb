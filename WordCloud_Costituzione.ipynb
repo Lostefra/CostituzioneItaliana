{
 "cells": [
  {
   "cell_type": "markdown",
   "metadata": {},
   "source": [
    "# Word Cloud della Costituzione Italiana"
   ]
  },
  {
   "cell_type": "markdown",
   "metadata": {
    "collapsed": true
   },
   "source": [
    "Open a text file:"
   ]
  },
  {
   "cell_type": "code",
   "execution_count": 1,
   "metadata": {
    "collapsed": true
   },
   "outputs": [],
   "source": [
    "text = open('costituzione.txt').read()"
   ]
  },
  {
   "cell_type": "markdown",
   "metadata": {},
   "source": [
    "Delete from the text punctuation and special characters you're not interested in; make everythinglower case; change accents into '"
   ]
  },
  {
   "cell_type": "code",
   "execution_count": 2,
   "metadata": {
    "collapsed": false
   },
   "outputs": [],
   "source": [
    "import re\n",
    "lowercase = text.lower()\n",
    "repls = ('à', \"a'\"), ('è', \"e'\"), ('ò', \"o'\")\n",
    "noacc = reduce(lambda a, kv: a.replace(*kv), repls, lowercase)\n",
    "cleaned = re.sub(\"[*#!:;.,()/']\", ' ', noacc)\n",
    "sub = cleaned.replace('cost ', 'costituzionale ') # Replace \"cost\" with \"costituzionale\""
   ]
  },
  {
   "cell_type": "markdown",
   "metadata": {},
   "source": [
    "Split the whole text into separate words; it create a list of words."
   ]
  },
  {
   "cell_type": "code",
   "execution_count": 3,
   "metadata": {
    "collapsed": false
   },
   "outputs": [],
   "source": [
    "splitted = sub.split()"
   ]
  },
  {
   "cell_type": "markdown",
   "metadata": {},
   "source": [
    "Remove words that are not interesting for the final word cloud:"
   ]
  },
  {
   "cell_type": "code",
   "execution_count": 4,
   "metadata": {
    "collapsed": false
   },
   "outputs": [],
   "source": [
    "remove_list = ['a', 'ad', 'al','ai', 'alla', 'alle','allo','all', 'agli', 'abbiamo','anche', 'avete',\n",
    "               'l','i', 'il', 'lo', 'la', 'le', 'gli',\n",
    "               'che','ci', 'con','cui',\n",
    "               'dal', 'del','dei','dall', 'dalla','dalle','dallo','dagli','dell', 'della','delle','dello','dopo',\n",
    "               'da', 'dai', 'un', 'di', 'in',\n",
    "               'e','ed', \"e'\",'ecc','era','ero','esso',\n",
    "               'fra',\n",
    "               'ha', 'ho', 'hai', 'hanno',\n",
    "               'ma', 'molto','molti','molte','molta', 'me','mie','mia', 'mi', 'mio',\n",
    "               'nel','nei', 'nella','nelle','nell',\n",
    "               'per', 'perché', 'però', 'con','una','ogni','se',\n",
    "               'ne', 'non', 'più', 'o','oppure',\n",
    "               'come', 'sono','essere','io','si','li', 'questi','essendo',\n",
    "               'sia', 'su','sua','suo','sul','sull', 'sulla', 'pur',\n",
    "               'quindi','queste','questa','questo', 'quelli','quelle','quello',\n",
    "               'quei','quali', 'quanto','qualora','quale', 'qualcosa','qual',\n",
    "               'tra', 'tutt',\n",
    "               'vi'\n",
    "              ]\n",
    "remove_list.extend(('art','1','2','3', 'a','b','c','d','n','comma','puo'))"
   ]
  },
  {
   "cell_type": "code",
   "execution_count": 5,
   "metadata": {
    "collapsed": false,
    "scrolled": true
   },
   "outputs": [],
   "source": [
    "remove_set = set(remove_list)"
   ]
  },
  {
   "cell_type": "code",
   "execution_count": 6,
   "metadata": {
    "collapsed": true
   },
   "outputs": [],
   "source": [
    "keep_list = []\n",
    "for word in splitted:\n",
    "    if word not in remove_list:\n",
    "        keep_list.append(word)"
   ]
  },
  {
   "cell_type": "code",
   "execution_count": 7,
   "metadata": {
    "collapsed": false
   },
   "outputs": [
    {
     "data": {
      "text/plain": [
       "8535"
      ]
     },
     "execution_count": 7,
     "metadata": {},
     "output_type": "execute_result"
    }
   ],
   "source": [
    "len(keep_list)"
   ]
  },
  {
   "cell_type": "markdown",
   "metadata": {},
   "source": [
    "Then create a string from the list to apply the WordCloud"
   ]
  },
  {
   "cell_type": "code",
   "execution_count": 21,
   "metadata": {
    "collapsed": false
   },
   "outputs": [],
   "source": [
    "list2text = ' '.join(keep_list)"
   ]
  },
  {
   "cell_type": "code",
   "execution_count": 9,
   "metadata": {
    "collapsed": true
   },
   "outputs": [],
   "source": [
    "from os import path\n",
    "from scipy.misc import imread\n",
    "import matplotlib.pyplot as plt\n",
    "from wordcloud import WordCloud, STOPWORDS"
   ]
  },
  {
   "cell_type": "code",
   "execution_count": 22,
   "metadata": {
    "collapsed": false
   },
   "outputs": [],
   "source": [
    "wc_square = WordCloud(width=800,height=400, prefer_horizontal=0.6,max_words=200).generate(list2text)\n",
    "\n",
    "#Open a plot of the generated image.\n",
    "\n",
    "plt.imshow(wc_square)\n",
    "plt.axis(\"off\")\n",
    "plt.show()"
   ]
  },
  {
   "cell_type": "code",
   "execution_count": 11,
   "metadata": {
    "collapsed": false
   },
   "outputs": [
    {
     "data": {
      "text/plain": [
       "<wordcloud.wordcloud.WordCloud at 0x7fe19a83f2d0>"
      ]
     },
     "execution_count": 11,
     "metadata": {},
     "output_type": "execute_result"
    }
   ],
   "source": [
    "# store to file\n",
    "wc_square.to_file(\"costituzione_square.png\")"
   ]
  },
  {
   "cell_type": "code",
   "execution_count": 12,
   "metadata": {
    "collapsed": true
   },
   "outputs": [],
   "source": [
    "# read the mask image taken from\n",
    "# http://ita24.it/wp-content/uploads/2012/03/cartina-muta.jpg\n",
    "# and modified by me\n",
    "italy_mask = imread('cartina-muta.png')"
   ]
  },
  {
   "cell_type": "code",
   "execution_count": 13,
   "metadata": {
    "collapsed": true
   },
   "outputs": [],
   "source": [
    "wc_italy = WordCloud(width=500, height=800, background_color=\"white\", max_words=200, mask=italy_mask, prefer_horizontal=0.6)"
   ]
  },
  {
   "cell_type": "code",
   "execution_count": 14,
   "metadata": {
    "collapsed": false
   },
   "outputs": [
    {
     "data": {
      "text/plain": [
       "<wordcloud.wordcloud.WordCloud at 0x7fe19a7bbe50>"
      ]
     },
     "execution_count": 14,
     "metadata": {},
     "output_type": "execute_result"
    }
   ],
   "source": [
    "# generate word cloud\n",
    "wc_italy.generate(list2text)"
   ]
  },
  {
   "cell_type": "code",
   "execution_count": 15,
   "metadata": {
    "collapsed": false
   },
   "outputs": [
    {
     "data": {
      "text/plain": [
       "<wordcloud.wordcloud.WordCloud at 0x7fe19a7bbe50>"
      ]
     },
     "execution_count": 15,
     "metadata": {},
     "output_type": "execute_result"
    }
   ],
   "source": [
    "# store to file\n",
    "wc_italy.to_file(\"costituzione_italy.png\")"
   ]
  },
  {
   "cell_type": "code",
   "execution_count": 16,
   "metadata": {
    "collapsed": true
   },
   "outputs": [],
   "source": [
    "# show\n",
    "plt.imshow(wc_italy)\n",
    "plt.axis(\"off\")\n",
    "plt.figure()\n",
    "plt.imshow(italy_mask, cmap=plt.cm.gray)\n",
    "plt.axis(\"off\")\n",
    "plt.show()"
   ]
  },
  {
   "cell_type": "markdown",
   "metadata": {},
   "source": [
    "Save the text in a new file"
   ]
  },
  {
   "cell_type": "code",
   "execution_count": 17,
   "metadata": {
    "collapsed": false
   },
   "outputs": [],
   "source": [
    "with open('costituzione_cleaned.txt', 'w') as newfile:\n",
    "    newfile.write(list2text)"
   ]
  },
  {
   "cell_type": "code",
   "execution_count": 18,
   "metadata": {
    "collapsed": false
   },
   "outputs": [],
   "source": [
    "from collections import Counter\n",
    "cnt = Counter()\n",
    "for word in keep_list:\n",
    "    cnt[word] += 1"
   ]
  },
  {
   "cell_type": "code",
   "execution_count": 19,
   "metadata": {
    "collapsed": false,
    "scrolled": true
   },
   "outputs": [
    {
     "data": {
      "text/plain": [
       "[('legge', 241),\n",
       " ('repubblica', 108),\n",
       " ('costituzionale', 84),\n",
       " ('stato', 82),\n",
       " ('presidente', 71),\n",
       " ('consiglio', 57),\n",
       " ('regione', 56),\n",
       " ('regioni', 52),\n",
       " ('leggi', 49),\n",
       " ('camere', 49),\n",
       " ('loro', 48),\n",
       " ('diritto', 44),\n",
       " ('costituzione', 43),\n",
       " ('secondo', 41),\n",
       " ('articolo', 40),\n",
       " ('regionale', 40),\n",
       " ('funzioni', 39),\n",
       " ('testo', 39),\n",
       " ('governo', 37),\n",
       " ('possono', 36),\n",
       " ('camera', 35),\n",
       " ('degli', 34),\n",
       " ('parlamento', 33),\n",
       " ('norme', 32),\n",
       " ('esercizio', 32),\n",
       " ('corte', 31),\n",
       " ('originario', 30),\n",
       " ('casi', 30),\n",
       " ('componenti', 29),\n",
       " ('comuni', 29),\n",
       " ('ordinamento', 28),\n",
       " ('enti', 24),\n",
       " ('cittadini', 24),\n",
       " ('tutti', 24),\n",
       " ('maggioranza', 23),\n",
       " ('entro', 23),\n",
       " ('stabiliti', 22),\n",
       " ('tutela', 22),\n",
       " ('materie', 22),\n",
       " ('parte', 22),\n",
       " ('ottobre', 22),\n",
       " ('seguente', 21),\n",
       " ('salvo', 21),\n",
       " ('anni', 21),\n",
       " ('regionali', 21),\n",
       " ('deputati', 21),\n",
       " ('18', 20),\n",
       " ('ministri', 19),\n",
       " ('due', 19),\n",
       " ('2001', 19)]"
      ]
     },
     "execution_count": 19,
     "metadata": {},
     "output_type": "execute_result"
    }
   ],
   "source": [
    "cnt.most_common(50)"
   ]
  }
 ],
 "metadata": {
  "kernelspec": {
   "display_name": "Python 2",
   "language": "python",
   "name": "python2"
  },
  "language_info": {
   "codemirror_mode": {
    "name": "ipython",
    "version": 2
   },
   "file_extension": ".py",
   "mimetype": "text/x-python",
   "name": "python",
   "nbconvert_exporter": "python",
   "pygments_lexer": "ipython2",
   "version": "2.7.11+"
  }
 },
 "nbformat": 4,
 "nbformat_minor": 0
}
